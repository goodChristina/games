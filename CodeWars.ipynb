{
 "cells": [
  {
   "cell_type": "code",
   "execution_count": 1,
   "metadata": {},
   "outputs": [],
   "source": [
    "song = \"One fish, two Fish, red fish, blue fish.\""
   ]
  },
  {
   "cell_type": "code",
   "execution_count": 2,
   "metadata": {},
   "outputs": [
    {
     "data": {
      "text/plain": [
       "False"
      ]
     },
     "execution_count": 2,
     "metadata": {},
     "output_type": "execute_result"
    }
   ],
   "source": [
    "song.isalpha()"
   ]
  },
  {
   "cell_type": "code",
   "execution_count": 3,
   "metadata": {},
   "outputs": [
    {
     "data": {
      "text/plain": [
       "4"
      ]
     },
     "execution_count": 3,
     "metadata": {},
     "output_type": "execute_result"
    }
   ],
   "source": [
    "song.lower().count(\"fish\")\n"
   ]
  },
  {
   "cell_type": "code",
   "execution_count": 4,
   "metadata": {},
   "outputs": [
    {
     "data": {
      "text/plain": [
       "['One fish, two Fish, red fish, blue fish', '']"
      ]
     },
     "execution_count": 4,
     "metadata": {},
     "output_type": "execute_result"
    }
   ],
   "source": [
    "song.split('.')"
   ]
  },
  {
   "cell_type": "code",
   "execution_count": 5,
   "metadata": {},
   "outputs": [
    {
     "data": {
      "text/plain": [
       "'One fish, two Fish, red fish, blue fish'"
      ]
     },
     "execution_count": 5,
     "metadata": {},
     "output_type": "execute_result"
    }
   ],
   "source": [
    "song.replace('.','')"
   ]
  },
  {
   "cell_type": "code",
   "execution_count": 6,
   "metadata": {},
   "outputs": [
    {
     "data": {
      "text/plain": [
       "['One', 'fish,', 'two', 'Fish,', 'red', 'fish,', 'blue', 'fish.']"
      ]
     },
     "execution_count": 6,
     "metadata": {},
     "output_type": "execute_result"
    }
   ],
   "source": [
    "song.split(None)"
   ]
  },
  {
   "cell_type": "code",
   "execution_count": 7,
   "metadata": {},
   "outputs": [
    {
     "data": {
      "text/plain": [
       "['One', 'fish,', 'two Fish, red fish, blue fish.']"
      ]
     },
     "execution_count": 7,
     "metadata": {},
     "output_type": "execute_result"
    }
   ],
   "source": [
    "song.split(None,2)"
   ]
  },
  {
   "cell_type": "code",
   "execution_count": 8,
   "metadata": {},
   "outputs": [
    {
     "data": {
      "text/plain": [
       "'Fish, two fish, red fish, blue fish.'"
      ]
     },
     "execution_count": 8,
     "metadata": {},
     "output_type": "execute_result"
    }
   ],
   "source": [
    "song[4:].capitalize()"
   ]
  },
  {
   "cell_type": "code",
   "execution_count": 9,
   "metadata": {},
   "outputs": [],
   "source": [
    "import math, random\n",
    "nums = random.sample(range(1,60),6)"
   ]
  },
  {
   "cell_type": "code",
   "execution_count": 10,
   "metadata": {},
   "outputs": [
    {
     "name": "stdout",
     "output_type": "stream",
     "text": [
      "Your lucky lotto numbers are [52, 38, 16, 29, 58, 14]\n"
     ]
    }
   ],
   "source": [
    "print(f\"Your lucky lotto numbers are {nums}\")"
   ]
  },
  {
   "cell_type": "code",
   "execution_count": 11,
   "metadata": {},
   "outputs": [
    {
     "name": "stdout",
     "output_type": "stream",
     "text": [
      "True\n"
     ]
    }
   ],
   "source": [
    "# error\n",
    "# print(a = True)\n",
    "\n",
    "print(a:= True)"
   ]
  },
  {
   "cell_type": "code",
   "execution_count": 12,
   "metadata": {},
   "outputs": [
    {
     "data": {
      "text/plain": [
       "'\\nWrite a function that takes in a string of one or more words, \\nand returns the same string, but with all words that have five or \\nmore letters reversed. Strings passed in will consist of only \\nletters and spaces. Spaces will be included only when more than \\none word is present.\\n\\n\"Hey fellow warriors\"  --> \"Hey wollef sroirraw\" \\n'"
      ]
     },
     "execution_count": 12,
     "metadata": {},
     "output_type": "execute_result"
    }
   ],
   "source": [
    "\"\"\"\n",
    "Write a function that takes in a string of one or more words, \n",
    "and returns the same string, but with all words that have five or \n",
    "more letters reversed. Strings passed in will consist of only \n",
    "letters and spaces. Spaces will be included only when more than \n",
    "one word is present.\n",
    "\n",
    "\"Hey fellow warriors\"  --> \"Hey wollef sroirraw\" \n",
    "\"\"\""
   ]
  },
  {
   "cell_type": "code",
   "execution_count": 13,
   "metadata": {},
   "outputs": [
    {
     "data": {
      "text/plain": [
       "'Hey wollef sroirraw out ereht'"
      ]
     },
     "execution_count": 13,
     "metadata": {},
     "output_type": "execute_result"
    }
   ],
   "source": [
    "snap_words = \"Hey fellow warriors out there\"\n",
    "\n",
    "def spin_long_words(sentence):\n",
    "    snipped_stored = sentence.split()\n",
    "    snipped = [i[::-1] if len(i)>=5 else i for i in snipped_stored]\n",
    "    return ' '.join(snipped)\n",
    "\n",
    "spin_long_words(snap_words)"
   ]
  },
  {
   "cell_type": "code",
   "execution_count": 14,
   "metadata": {},
   "outputs": [
    {
     "data": {
      "text/plain": [
       "\"\\nCreate a function that takes a list of non-negative integers and \\nstrings and returns a new list with the strings filtered out.\\n\\nfilter_list([1,2,'a','b']) == [1,2]\\nfilter_list([1,'a','b',0,15]) == [1,0,15]\\nfilter_list([1,2,'aasf','1','123',123]) == [1,2,123]\\n\""
      ]
     },
     "execution_count": 14,
     "metadata": {},
     "output_type": "execute_result"
    }
   ],
   "source": [
    "'''\n",
    "Create a function that takes a list of non-negative integers and \n",
    "strings and returns a new list with the strings filtered out.\n",
    "\n",
    "filter_list([1,2,'a','b']) == [1,2]\n",
    "filter_list([1,'a','b',0,15]) == [1,0,15]\n",
    "filter_list([1,2,'aasf','1','123',123]) == [1,2,123]\n",
    "'''"
   ]
  },
  {
   "cell_type": "code",
   "execution_count": 15,
   "metadata": {},
   "outputs": [
    {
     "data": {
      "text/plain": [
       "[1, 0, 15]"
      ]
     },
     "execution_count": 15,
     "metadata": {},
     "output_type": "execute_result"
    }
   ],
   "source": [
    "filter_list_1 = ([1,'a','b',0,15])\n",
    "\n",
    "def filter_list(l):\n",
    "    mesh = [i for i in l if not isinstance(i, str)] \n",
    "    return mesh\n",
    "\n",
    "\n",
    "filter_list(filter_list_1)\n"
   ]
  },
  {
   "cell_type": "code",
   "execution_count": null,
   "metadata": {},
   "outputs": [
    {
     "data": {
      "text/plain": [
       "''"
      ]
     },
     "execution_count": 16,
     "metadata": {},
     "output_type": "execute_result"
    }
   ],
   "source": [
    "\"\"\"\n",
    "Write a function cakes(), which takes the recipe (object) and the available \n",
    "ingredients (also an object) and returns the maximum number of cakes Pete \n",
    "can bake (integer). For simplicity there are no units for the amounts (e.g. 1 \n",
    "lb of flour or 200 g of sugar are simply 1 or 200). \n",
    "Ingredients that are not present in the objects, can be considered as 0.\n",
    "\"\"\""
   ]
  },
  {
   "cell_type": "code",
   "execution_count": 30,
   "metadata": {},
   "outputs": [],
   "source": [
    "recipe = {\"flour\": 500, \"sugar\": 200, \"eggs\": 1}\n",
    "available = {\"flour\": 1200, \"sugar\": 1200, \"eggs\": 5, \"milk\": 200}\n",
    "\n",
    "recipe_2 = {\"apples\": 3, \"flour\": 300, \"sugar\": 150, \"milk\": 100, \"oil\": 100}\n",
    "available_2 = {\"sugar\": 500, \"flour\": 2000, \"milk\": 2000}\n",
    "#test.assert_equals(cakes(recipe, available), 2, 'example #1')"
   ]
  },
  {
   "cell_type": "code",
   "execution_count": 47,
   "metadata": {},
   "outputs": [
    {
     "data": {
      "text/plain": [
       "0"
      ]
     },
     "execution_count": 47,
     "metadata": {},
     "output_type": "execute_result"
    }
   ],
   "source": [
    "def cakes(recipe, available):\n",
    "    #many_cakes = ({available[k] // recipe[k] for k in available if k in recipe and recipe[k] != 0})\n",
    "    #result = min(many_cakes) if len(many_cakes) == len(recipe) else 0\n",
    "    #return result\n",
    "    return min(available.get(ingredient, 0) // amount for ingredient, amount in recipe.items())\n",
    "\n",
    "\n",
    "cakes(recipe_2, available_2)"
   ]
  },
  {
   "cell_type": "code",
   "execution_count": 29,
   "metadata": {},
   "outputs": [
    {
     "name": "stdout",
     "output_type": "stream",
     "text": [
      "2.4\n"
     ]
    }
   ],
   "source": [
    "result_list = min({available[k] / recipe[k] for k in available if k in recipe and recipe[k] != 0})\n",
    "print(result_list)"
   ]
  },
  {
   "cell_type": "code",
   "execution_count": null,
   "metadata": {},
   "outputs": [],
   "source": []
  }
 ],
 "metadata": {
  "kernelspec": {
   "display_name": "jup_project_kernel",
   "language": "python",
   "name": "jup_project_kernel"
  },
  "language_info": {
   "codemirror_mode": {
    "name": "ipython",
    "version": 3
   },
   "file_extension": ".py",
   "mimetype": "text/x-python",
   "name": "python",
   "nbconvert_exporter": "python",
   "pygments_lexer": "ipython3",
   "version": "3.11.1"
  }
 },
 "nbformat": 4,
 "nbformat_minor": 2
}
